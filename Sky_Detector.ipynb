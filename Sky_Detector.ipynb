{
  "nbformat": 4,
  "nbformat_minor": 0,
  "metadata": {
    "colab": {
      "provenance": []
    },
    "kernelspec": {
      "name": "python3",
      "display_name": "Python 3"
    },
    "language_info": {
      "name": "python"
    }
  },
  "cells": [
    {
      "cell_type": "code",
      "source": [
        "pip install gradio"
      ],
      "metadata": {
        "id": "Tsz48zmFxf6g"
      },
      "execution_count": null,
      "outputs": []
    },
    {
      "cell_type": "code",
      "source": [
        "\n",
        "\n",
        "import gradio as gr\n",
        "import cv2\n",
        "import numpy as np\n",
        "import matplotlib.pyplot as plt\n",
        "from sklearn.cluster import KMeans\n",
        "import io\n",
        "from PIL import Image\n",
        "\n",
        "\n",
        "def segment_sky_with_kmeans(image_rgb):\n",
        "    h, w = image_rgb.shape[:2]\n",
        "    reshaped_img = image_rgb.reshape((-1, 3)).astype(np.float32)\n",
        "\n",
        "      # Using 2 cluster centers\n",
        "    k = 2\n",
        "    _, labels, centers = cv2.kmeans(reshaped_img, k, None, (cv2.TERM_CRITERIA_EPS + cv2.TERM_CRITERIA_MAX_ITER, 100, 0.2), 10, cv2.KMEANS_RANDOM_CENTERS)\n",
        "\n",
        "    # Assuming the sky cluster has higher brightness\n",
        "    sky_cluster_index = np.argmax(np.mean(centers, axis=1))\n",
        "    sky_mask = (labels.reshape((h, w)) == sky_cluster_index)\n",
        "\n",
        "    return sky_mask.astype(np.uint8) * 255\n",
        "\n",
        "\n",
        "\n"
      ],
      "metadata": {
        "id": "uZ63QaiiyJZr"
      },
      "execution_count": 17,
      "outputs": []
    },
    {
      "cell_type": "code",
      "source": [
        "def process_image_and_display_all_steps(image_rgb):\n",
        "\n",
        "\n",
        "    sky_mask_kmeans = segment_sky_with_kmeans(image_rgb)\n",
        "\n",
        "    image_hsv = cv2.cvtColor(image_rgb, cv2.COLOR_RGB2HSV)\n",
        "\n",
        "    # Refine the blue sky color thresholds\n",
        "    lower_blue = np.array([70, 50, 100])  # Increase the lower bounds\n",
        "    upper_blue = np.array([130, 255, 255])  # Adjust the hue to be more selective\n",
        "\n",
        "    mask_blue = cv2.inRange(image_hsv, lower_blue, upper_blue)\n",
        "\n",
        "    # Keep the sunset sky color thresholds unchanged\n",
        "    lower_orange_red = np.array([0, 100, 100])\n",
        "    upper_orange_red = np.array([30, 255, 255])\n",
        "    mask_orange_red = cv2.inRange(image_hsv, lower_orange_red, upper_orange_red)\n",
        "\n",
        "    # Combine the blue and orange/red sky masks\n",
        "    sky_mask = cv2.bitwise_or(mask_blue, mask_orange_red)\n",
        "\n",
        "    # Only apply the mask to the upper part of the image\n",
        "    h, w = sky_mask.shape\n",
        "    two_thirds_mask = np.zeros_like(sky_mask)\n",
        "    two_thirds_mask[:2*h//3, :] = 1  # Create a mask for the upper two-thirds\n",
        "    sky_mask_two_thirds = cv2.bitwise_and(sky_mask, sky_mask, mask=two_thirds_mask)\n",
        "\n",
        "    # Clean up the mask with morphological operations\n",
        "    kernel = np.ones((7, 7), np.uint8)\n",
        "    mask_morph = cv2.morphologyEx(sky_mask, cv2.MORPH_CLOSE, kernel)\n",
        "    mask_morph = cv2.morphologyEx(mask_morph, cv2.MORPH_OPEN, kernel)\n",
        "\n",
        "    # Fill the sky area with white color\n",
        "    image_with_white_sky = image_rgb.copy()\n",
        "    image_with_white_sky[mask_morph != 0] = (255, 255, 255)\n",
        "\n",
        "    # Display the key steps of the process\n",
        "    fig, axs = plt.subplots(1, 6, figsize=(18, 5))\n",
        "\n",
        "    axs[0].imshow(image_rgb)\n",
        "    axs[0].set_title('Original Image')\n",
        "    axs[0].axis('off')\n",
        "\n",
        "    axs[1].imshow(sky_mask_kmeans, cmap='gray')\n",
        "    axs[1].set_title('K-means Sky Mask')\n",
        "    axs[1].axis('off')\n",
        "\n",
        "    axs[2].imshow(mask_blue, cmap='gray')\n",
        "    axs[2].set_title('Blue Sky Mask')\n",
        "    axs[2].axis('off')\n",
        "\n",
        "    axs[3].imshow(mask_orange_red, cmap='gray')\n",
        "    axs[3].set_title('Sunset Sky Mask')\n",
        "    axs[3].axis('off')\n",
        "\n",
        "    axs[4].imshow(mask_morph, cmap='gray')\n",
        "    axs[4].set_title('Morphological Mask')\n",
        "    axs[4].axis('off')\n",
        "\n",
        "    axs[5].imshow(image_with_white_sky)\n",
        "    axs[5].set_title('Image with White Sky')\n",
        "    axs[5].axis('off')\n",
        "\n",
        "    plt.tight_layout()\n",
        "\n",
        "\n",
        "    # Save the plot to a buffer instead of showing it\n",
        "    buf = io.BytesIO()\n",
        "    plt.savefig(buf, format='png')\n",
        "    buf.seek(0)\n",
        "    plt.close()\n",
        "\n",
        "    # Convert buffer to PIL image and return\n",
        "    img = Image.open(buf)\n",
        "    return img"
      ],
      "metadata": {
        "id": "rxlxE33o9i3o"
      },
      "execution_count": 18,
      "outputs": []
    },
    {
      "cell_type": "code",
      "source": [
        "def process_image_and_display_all_steps_gradio(input_image):\n",
        "    img = process_image_and_display_all_steps(input_image)\n",
        "    return img\n",
        "\n"
      ],
      "metadata": {
        "id": "c-gK6tLS9yL7"
      },
      "execution_count": 19,
      "outputs": []
    },
    {
      "cell_type": "code",
      "source": [
        "demo = gr.Interface(\n",
        "    fn=process_image_and_display_all_steps_gradio,\n",
        "    inputs=\"image\",\n",
        "    outputs=\"image\"\n",
        ")\n",
        "demo.launch()"
      ],
      "metadata": {
        "colab": {
          "base_uri": "https://localhost:8080/",
          "height": 646
        },
        "id": "6C0kRlHB90Ba",
        "outputId": "1ba44b77-4d4e-43c2-9ccd-565871b379fa"
      },
      "execution_count": 20,
      "outputs": [
        {
          "output_type": "stream",
          "name": "stdout",
          "text": [
            "Setting queue=True in a Colab notebook requires sharing enabled. Setting `share=True` (you can turn this off by setting `share=False` in `launch()` explicitly).\n",
            "\n",
            "Colab notebook detected. To show errors in colab notebook, set debug=True in launch()\n",
            "Running on public URL: https://8715c0ad40de83342b.gradio.live\n",
            "\n",
            "This share link expires in 72 hours. For free permanent hosting and GPU upgrades, run `gradio deploy` from Terminal to deploy to Spaces (https://huggingface.co/spaces)\n"
          ]
        },
        {
          "output_type": "display_data",
          "data": {
            "text/plain": [
              "<IPython.core.display.HTML object>"
            ],
            "text/html": [
              "<div><iframe src=\"https://8715c0ad40de83342b.gradio.live\" width=\"100%\" height=\"500\" allow=\"autoplay; camera; microphone; clipboard-read; clipboard-write;\" frameborder=\"0\" allowfullscreen></iframe></div>"
            ]
          },
          "metadata": {}
        },
        {
          "output_type": "execute_result",
          "data": {
            "text/plain": []
          },
          "metadata": {},
          "execution_count": 20
        }
      ]
    }
  ]
}